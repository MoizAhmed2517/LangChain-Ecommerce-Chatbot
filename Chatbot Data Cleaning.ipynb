{
 "cells": [
  {
   "cell_type": "markdown",
   "id": "4c8e1223",
   "metadata": {},
   "source": [
    "# Data Cleaning - For Ecommerce Chatbot -  Women Fashion Dataset"
   ]
  },
  {
   "cell_type": "markdown",
   "id": "f3449e1f",
   "metadata": {},
   "source": [
    "**Details**\n",
    "\n",
    "- In this dataset out of 47 columns 14 were selected for creating chatbot. Selection of features are based on wrong data, complete null columns, high number NaN values in a particular column, non-relevant for chatbot\n",
    "\n",
    "**Selected Features**\n",
    "\n",
    "| *Feature*           | *Null values*     | *Cleaning methodology*                                                        |\n",
    "| :------------------ | :---------------: | :---------------------------------------------------------------------------- |\n",
    "| id                  | 0                 | Not Required                                                                  |\n",
    "| brand               | 633               | First value in name column is considered as brand                             |\n",
    "| categories          | 0                 | Not Required                                                                  |\n",
    "| colors              | 7156              | Fetched data from W3 school. Checked in 'name' if color replace it else \"No\"  |\n",
    "| descriptions        | 8265              | Dataset with no descriptions are filled with name+colors+brands+sizes columns |\n",
    "| name                | 0                 | Not Required                                                                  |\n",
    "| prices.amountMin    | 1                 | Row removed                                                                   |\n",
    "| prices.amountMax    | 0                 | Not Required                                                                  |\n",
    "| prices.currency     | 9                 | Row removed                                                                   |\n",
    "| prices.isSale       | 6                 | Row removed                                                                   |\n",
    "| prices.returnPolicy | 18293             | Filled with \"No return policy\"                                                |\n",
    "| prices.shipping     | 14482             | Filled with \"USD 0\"                                                           |\n",
    "| reviews             | 18031             | Filled with \"No review yet\"                                                   |\n",
    "| sizes               | 10776             | Filled with \"size in name and descriptions\" redirected to name and descr cols.|"
   ]
  },
  {
   "cell_type": "code",
   "execution_count": 1,
   "id": "d30acef3",
   "metadata": {},
   "outputs": [],
   "source": [
    "import pandas as pd\n",
    "import matplotlib.pyplot as plt\n",
    "import seaborn as sns\n",
    "import numpy as np\n",
    "import math\n",
    "import dtale\n",
    "import re\n",
    "import urllib.request\n",
    "from bs4 import BeautifulSoup"
   ]
  },
  {
   "cell_type": "code",
   "execution_count": 2,
   "id": "ead0b8c7",
   "metadata": {},
   "outputs": [],
   "source": [
    "df = pd.read_csv(\"C:\\\\Users\\\\HP\\\\ML Models\\\\Data Practice\\\\women_shoes.csv\", low_memory=False)"
   ]
  },
  {
   "cell_type": "code",
   "execution_count": 3,
   "id": "a0104e52",
   "metadata": {
    "scrolled": true
   },
   "outputs": [
    {
     "data": {
      "text/html": [
       "<div>\n",
       "<style scoped>\n",
       "    .dataframe tbody tr th:only-of-type {\n",
       "        vertical-align: middle;\n",
       "    }\n",
       "\n",
       "    .dataframe tbody tr th {\n",
       "        vertical-align: top;\n",
       "    }\n",
       "\n",
       "    .dataframe thead th {\n",
       "        text-align: right;\n",
       "    }\n",
       "</style>\n",
       "<table border=\"1\" class=\"dataframe\">\n",
       "  <thead>\n",
       "    <tr style=\"text-align: right;\">\n",
       "      <th></th>\n",
       "      <th>id</th>\n",
       "      <th>asins</th>\n",
       "      <th>brand</th>\n",
       "      <th>categories</th>\n",
       "      <th>colors</th>\n",
       "      <th>count</th>\n",
       "      <th>dateAdded</th>\n",
       "      <th>dateUpdated</th>\n",
       "      <th>descriptions</th>\n",
       "      <th>dimension</th>\n",
       "      <th>...</th>\n",
       "      <th>prices.sourceURLs</th>\n",
       "      <th>prices.warranty</th>\n",
       "      <th>quantities</th>\n",
       "      <th>reviews</th>\n",
       "      <th>sizes</th>\n",
       "      <th>skus</th>\n",
       "      <th>sourceURLs</th>\n",
       "      <th>upc</th>\n",
       "      <th>websiteIDs</th>\n",
       "      <th>weight</th>\n",
       "    </tr>\n",
       "  </thead>\n",
       "  <tbody>\n",
       "    <tr>\n",
       "      <th>0</th>\n",
       "      <td>AVpfBXx21cnluZ0-cKxs</td>\n",
       "      <td>NaN</td>\n",
       "      <td>Zoot</td>\n",
       "      <td>Shoes,Clothing,Women's Shoes,All Women's Shoes</td>\n",
       "      <td>Blue,Multicolor</td>\n",
       "      <td>NaN</td>\n",
       "      <td>2016-11-11T09:49:00Z</td>\n",
       "      <td>2016-11-11T09:49:00Z</td>\n",
       "      <td>[{\"dateSeen\":[\"2016-11-11T09:49:00Z\"],\"sourceU...</td>\n",
       "      <td>NaN</td>\n",
       "      <td>...</td>\n",
       "      <td>https://www.walmart.com/ip/Zoot-TT-TRAINER-2.0...</td>\n",
       "      <td>NaN</td>\n",
       "      <td>NaN</td>\n",
       "      <td>NaN</td>\n",
       "      <td>10,9</td>\n",
       "      <td>NaN</td>\n",
       "      <td>https://www.walmart.com/ip/Zoot-TT-TRAINER-2.0...</td>\n",
       "      <td>NaN</td>\n",
       "      <td>NaN</td>\n",
       "      <td>NaN</td>\n",
       "    </tr>\n",
       "    <tr>\n",
       "      <th>1</th>\n",
       "      <td>AVpfBXx21cnluZ0-cKxs</td>\n",
       "      <td>NaN</td>\n",
       "      <td>Zoot</td>\n",
       "      <td>Shoes,Clothing,Women's Shoes,All Women's Shoes</td>\n",
       "      <td>Blue,Multicolor</td>\n",
       "      <td>NaN</td>\n",
       "      <td>2016-11-11T09:49:00Z</td>\n",
       "      <td>2016-11-11T09:49:00Z</td>\n",
       "      <td>[{\"dateSeen\":[\"2016-11-11T09:49:00Z\"],\"sourceU...</td>\n",
       "      <td>NaN</td>\n",
       "      <td>...</td>\n",
       "      <td>https://www.walmart.com/ip/Zoot-TT-TRAINER-2.0...</td>\n",
       "      <td>NaN</td>\n",
       "      <td>NaN</td>\n",
       "      <td>NaN</td>\n",
       "      <td>10,9</td>\n",
       "      <td>NaN</td>\n",
       "      <td>https://www.walmart.com/ip/Zoot-TT-TRAINER-2.0...</td>\n",
       "      <td>NaN</td>\n",
       "      <td>NaN</td>\n",
       "      <td>NaN</td>\n",
       "    </tr>\n",
       "    <tr>\n",
       "      <th>2</th>\n",
       "      <td>AVpfBXx21cnluZ0-cKxs</td>\n",
       "      <td>NaN</td>\n",
       "      <td>Zoot</td>\n",
       "      <td>Shoes,Clothing,Women's Shoes,All Women's Shoes</td>\n",
       "      <td>Blue,Multicolor</td>\n",
       "      <td>NaN</td>\n",
       "      <td>2016-11-11T09:49:00Z</td>\n",
       "      <td>2016-11-11T09:49:00Z</td>\n",
       "      <td>[{\"dateSeen\":[\"2016-11-11T09:49:00Z\"],\"sourceU...</td>\n",
       "      <td>NaN</td>\n",
       "      <td>...</td>\n",
       "      <td>https://www.walmart.com/ip/Zoot-TT-TRAINER-2.0...</td>\n",
       "      <td>NaN</td>\n",
       "      <td>NaN</td>\n",
       "      <td>NaN</td>\n",
       "      <td>10,9</td>\n",
       "      <td>NaN</td>\n",
       "      <td>https://www.walmart.com/ip/Zoot-TT-TRAINER-2.0...</td>\n",
       "      <td>NaN</td>\n",
       "      <td>NaN</td>\n",
       "      <td>NaN</td>\n",
       "    </tr>\n",
       "    <tr>\n",
       "      <th>3</th>\n",
       "      <td>AVpfBXx21cnluZ0-cKxs</td>\n",
       "      <td>NaN</td>\n",
       "      <td>Zoot</td>\n",
       "      <td>Shoes,Clothing,Women's Shoes,All Women's Shoes</td>\n",
       "      <td>Blue,Multicolor</td>\n",
       "      <td>NaN</td>\n",
       "      <td>2016-11-11T09:49:00Z</td>\n",
       "      <td>2016-11-11T09:49:00Z</td>\n",
       "      <td>[{\"dateSeen\":[\"2016-11-11T09:49:00Z\"],\"sourceU...</td>\n",
       "      <td>NaN</td>\n",
       "      <td>...</td>\n",
       "      <td>https://www.walmart.com/ip/Zoot-TT-TRAINER-2.0...</td>\n",
       "      <td>NaN</td>\n",
       "      <td>NaN</td>\n",
       "      <td>NaN</td>\n",
       "      <td>10,9</td>\n",
       "      <td>NaN</td>\n",
       "      <td>https://www.walmart.com/ip/Zoot-TT-TRAINER-2.0...</td>\n",
       "      <td>NaN</td>\n",
       "      <td>NaN</td>\n",
       "      <td>NaN</td>\n",
       "    </tr>\n",
       "    <tr>\n",
       "      <th>4</th>\n",
       "      <td>AVpfEqFRLJeJML431x7w</td>\n",
       "      <td>NaN</td>\n",
       "      <td>Wild Pair</td>\n",
       "      <td>Shoes,Women's Shoes,Clothing,All Women's Shoes</td>\n",
       "      <td>Brown</td>\n",
       "      <td>NaN</td>\n",
       "      <td>2016-11-16T12:56:36Z</td>\n",
       "      <td>2016-11-16T12:56:36Z</td>\n",
       "      <td>[{\"dateSeen\":[\"2016-11-16T12:56:36Z\"],\"sourceU...</td>\n",
       "      <td>NaN</td>\n",
       "      <td>...</td>\n",
       "      <td>https://www.walmart.com/ip/Wild-Pair-Colfax-Wo...</td>\n",
       "      <td>NaN</td>\n",
       "      <td>NaN</td>\n",
       "      <td>NaN</td>\n",
       "      <td>8.5,7,7.5,8</td>\n",
       "      <td>NaN</td>\n",
       "      <td>https://www.walmart.com/ip/Wild-Pair-Colfax-Wo...</td>\n",
       "      <td>7.63181E+11</td>\n",
       "      <td>NaN</td>\n",
       "      <td>NaN</td>\n",
       "    </tr>\n",
       "  </tbody>\n",
       "</table>\n",
       "<p>5 rows × 47 columns</p>\n",
       "</div>"
      ],
      "text/plain": [
       "                     id asins      brand  \\\n",
       "0  AVpfBXx21cnluZ0-cKxs   NaN       Zoot   \n",
       "1  AVpfBXx21cnluZ0-cKxs   NaN       Zoot   \n",
       "2  AVpfBXx21cnluZ0-cKxs   NaN       Zoot   \n",
       "3  AVpfBXx21cnluZ0-cKxs   NaN       Zoot   \n",
       "4  AVpfEqFRLJeJML431x7w   NaN  Wild Pair   \n",
       "\n",
       "                                       categories           colors  count  \\\n",
       "0  Shoes,Clothing,Women's Shoes,All Women's Shoes  Blue,Multicolor    NaN   \n",
       "1  Shoes,Clothing,Women's Shoes,All Women's Shoes  Blue,Multicolor    NaN   \n",
       "2  Shoes,Clothing,Women's Shoes,All Women's Shoes  Blue,Multicolor    NaN   \n",
       "3  Shoes,Clothing,Women's Shoes,All Women's Shoes  Blue,Multicolor    NaN   \n",
       "4  Shoes,Women's Shoes,Clothing,All Women's Shoes            Brown    NaN   \n",
       "\n",
       "              dateAdded           dateUpdated  \\\n",
       "0  2016-11-11T09:49:00Z  2016-11-11T09:49:00Z   \n",
       "1  2016-11-11T09:49:00Z  2016-11-11T09:49:00Z   \n",
       "2  2016-11-11T09:49:00Z  2016-11-11T09:49:00Z   \n",
       "3  2016-11-11T09:49:00Z  2016-11-11T09:49:00Z   \n",
       "4  2016-11-16T12:56:36Z  2016-11-16T12:56:36Z   \n",
       "\n",
       "                                        descriptions dimension  ...  \\\n",
       "0  [{\"dateSeen\":[\"2016-11-11T09:49:00Z\"],\"sourceU...       NaN  ...   \n",
       "1  [{\"dateSeen\":[\"2016-11-11T09:49:00Z\"],\"sourceU...       NaN  ...   \n",
       "2  [{\"dateSeen\":[\"2016-11-11T09:49:00Z\"],\"sourceU...       NaN  ...   \n",
       "3  [{\"dateSeen\":[\"2016-11-11T09:49:00Z\"],\"sourceU...       NaN  ...   \n",
       "4  [{\"dateSeen\":[\"2016-11-16T12:56:36Z\"],\"sourceU...       NaN  ...   \n",
       "\n",
       "                                   prices.sourceURLs prices.warranty  \\\n",
       "0  https://www.walmart.com/ip/Zoot-TT-TRAINER-2.0...             NaN   \n",
       "1  https://www.walmart.com/ip/Zoot-TT-TRAINER-2.0...             NaN   \n",
       "2  https://www.walmart.com/ip/Zoot-TT-TRAINER-2.0...             NaN   \n",
       "3  https://www.walmart.com/ip/Zoot-TT-TRAINER-2.0...             NaN   \n",
       "4  https://www.walmart.com/ip/Wild-Pair-Colfax-Wo...             NaN   \n",
       "\n",
       "   quantities reviews        sizes skus  \\\n",
       "0         NaN     NaN         10,9  NaN   \n",
       "1         NaN     NaN         10,9  NaN   \n",
       "2         NaN     NaN         10,9  NaN   \n",
       "3         NaN     NaN         10,9  NaN   \n",
       "4         NaN     NaN  8.5,7,7.5,8  NaN   \n",
       "\n",
       "                                          sourceURLs          upc websiteIDs  \\\n",
       "0  https://www.walmart.com/ip/Zoot-TT-TRAINER-2.0...          NaN        NaN   \n",
       "1  https://www.walmart.com/ip/Zoot-TT-TRAINER-2.0...          NaN        NaN   \n",
       "2  https://www.walmart.com/ip/Zoot-TT-TRAINER-2.0...          NaN        NaN   \n",
       "3  https://www.walmart.com/ip/Zoot-TT-TRAINER-2.0...          NaN        NaN   \n",
       "4  https://www.walmart.com/ip/Wild-Pair-Colfax-Wo...  7.63181E+11        NaN   \n",
       "\n",
       "  weight  \n",
       "0    NaN  \n",
       "1    NaN  \n",
       "2    NaN  \n",
       "3    NaN  \n",
       "4    NaN  \n",
       "\n",
       "[5 rows x 47 columns]"
      ]
     },
     "execution_count": 3,
     "metadata": {},
     "output_type": "execute_result"
    }
   ],
   "source": [
    "df.head()"
   ]
  },
  {
   "cell_type": "code",
   "execution_count": 4,
   "id": "2154ad89",
   "metadata": {},
   "outputs": [
    {
     "name": "stdout",
     "output_type": "stream",
     "text": [
      "<class 'pandas.core.frame.DataFrame'>\n",
      "RangeIndex: 19045 entries, 0 to 19044\n",
      "Data columns (total 47 columns):\n",
      " #   Column               Non-Null Count  Dtype  \n",
      "---  ------               --------------  -----  \n",
      " 0   id                   19045 non-null  object \n",
      " 1   asins                2208 non-null   object \n",
      " 2   brand                18412 non-null  object \n",
      " 3   categories           19045 non-null  object \n",
      " 4   colors               11889 non-null  object \n",
      " 5   count                0 non-null      float64\n",
      " 6   dateAdded            19045 non-null  object \n",
      " 7   dateUpdated          19045 non-null  object \n",
      " 8   descriptions         10780 non-null  object \n",
      " 9   dimension            2418 non-null   object \n",
      " 10  ean                  9816 non-null   float64\n",
      " 11  features             14108 non-null  object \n",
      " 12  flavors              0 non-null      float64\n",
      " 13  imageURLs            17840 non-null  object \n",
      " 14  isbn                 0 non-null      float64\n",
      " 15  keys                 19045 non-null  object \n",
      " 16  manufacturer         8656 non-null   object \n",
      " 17  manufacturerNumber   15903 non-null  object \n",
      " 18  merchants            13688 non-null  object \n",
      " 19  name                 19045 non-null  object \n",
      " 20  prices.amountMin     19044 non-null  object \n",
      " 21  prices.amountMax     19045 non-null  object \n",
      " 22  prices.availability  135 non-null    object \n",
      " 23  prices.color         547 non-null    object \n",
      " 24  prices.condition     12228 non-null  object \n",
      " 25  prices.count         7 non-null      object \n",
      " 26  prices.currency      19036 non-null  object \n",
      " 27  prices.dateAdded     19041 non-null  object \n",
      " 28  prices.dateSeen      19041 non-null  object \n",
      " 29  prices.flavor        6 non-null      object \n",
      " 30  prices.isSale        19039 non-null  object \n",
      " 31  prices.merchant      14294 non-null  object \n",
      " 32  prices.offer         6853 non-null   object \n",
      " 33  prices.returnPolicy  752 non-null    object \n",
      " 34  prices.shipping      4563 non-null   object \n",
      " 35  prices.size          508 non-null    object \n",
      " 36  prices.source        4 non-null      object \n",
      " 37  prices.sourceURLs    19034 non-null  object \n",
      " 38  prices.warranty      20 non-null     object \n",
      " 39  quantities           2 non-null      object \n",
      " 40  reviews              1014 non-null   object \n",
      " 41  sizes                8269 non-null   object \n",
      " 42  skus                 7084 non-null   object \n",
      " 43  sourceURLs           19034 non-null  object \n",
      " 44  upc                  10671 non-null  object \n",
      " 45  websiteIDs           1 non-null      float64\n",
      " 46  weight               830 non-null    object \n",
      "dtypes: float64(5), object(42)\n",
      "memory usage: 6.8+ MB\n"
     ]
    }
   ],
   "source": [
    "df.info()"
   ]
  },
  {
   "cell_type": "code",
   "execution_count": 5,
   "id": "5f60b9df",
   "metadata": {
    "scrolled": true
   },
   "outputs": [],
   "source": [
    "delKeys = ['asins', 'count', 'dateAdded', 'dateUpdated', 'dimension', 'ean', 'flavors', 'imageURLs', 'isbn', 'keys', 'manufacturer',\n",
    "           'manufacturerNumber', 'merchants', 'prices.availability', 'prices.color', 'prices.condition', 'prices.count', \n",
    "           'prices.dateAdded', 'prices.dateSeen', 'prices.flavor', 'prices.merchant', 'prices.size', 'prices.source', 'prices.sourceURLs', \n",
    "           'prices.warranty', 'quantities', 'skus', 'sourceURLs', 'upc', 'websiteIDs', 'features', \"prices.offer\", \"weight\"]\n",
    "data = df.drop(delKeys, axis=1)"
   ]
  },
  {
   "cell_type": "code",
   "execution_count": 6,
   "id": "5e94b592",
   "metadata": {
    "scrolled": false
   },
   "outputs": [
    {
     "data": {
      "text/plain": [
       "id                         0\n",
       "brand                    633\n",
       "categories                 0\n",
       "colors                  7156\n",
       "descriptions            8265\n",
       "name                       0\n",
       "prices.amountMin           1\n",
       "prices.amountMax           0\n",
       "prices.currency            9\n",
       "prices.isSale              6\n",
       "prices.returnPolicy    18293\n",
       "prices.shipping        14482\n",
       "reviews                18031\n",
       "sizes                  10776\n",
       "dtype: int64"
      ]
     },
     "execution_count": 6,
     "metadata": {},
     "output_type": "execute_result"
    }
   ],
   "source": [
    "data.isnull().sum()"
   ]
  },
  {
   "cell_type": "markdown",
   "id": "315c92fc",
   "metadata": {},
   "source": [
    "**Working for Category**\n",
    "\n",
    "In this dataset, the category is not properly filtered. In clothing, shoes are also defined in same category to improve the chatbot working and category compilation work is done. \n",
    "\n",
    "At the end of this section you can see only 3 categories that is\n",
    "1. Footwear\n",
    "2. Clothing\n",
    "3. Additional Wearables"
   ]
  },
  {
   "cell_type": "code",
   "execution_count": 7,
   "id": "a5810e2b",
   "metadata": {
    "scrolled": true
   },
   "outputs": [
    {
     "data": {
      "text/html": [
       "<div>\n",
       "<style scoped>\n",
       "    .dataframe tbody tr th:only-of-type {\n",
       "        vertical-align: middle;\n",
       "    }\n",
       "\n",
       "    .dataframe tbody tr th {\n",
       "        vertical-align: top;\n",
       "    }\n",
       "\n",
       "    .dataframe thead th {\n",
       "        text-align: right;\n",
       "    }\n",
       "</style>\n",
       "<table border=\"1\" class=\"dataframe\">\n",
       "  <thead>\n",
       "    <tr style=\"text-align: right;\">\n",
       "      <th></th>\n",
       "      <th>categories</th>\n",
       "    </tr>\n",
       "  </thead>\n",
       "  <tbody>\n",
       "    <tr>\n",
       "      <th>Shoes,Women's Shoes,Clothing,All Women's Shoes</th>\n",
       "      <td>2887</td>\n",
       "    </tr>\n",
       "    <tr>\n",
       "      <th>Clothing,Shoes,Women's Shoes,All Women's Shoes</th>\n",
       "      <td>2313</td>\n",
       "    </tr>\n",
       "    <tr>\n",
       "      <th>Shoes,Clothing,Women's Shoes,All Women's Shoes</th>\n",
       "      <td>2064</td>\n",
       "    </tr>\n",
       "    <tr>\n",
       "      <th>Athletic,Women,Shoes,Shoes &amp; Handbags</th>\n",
       "      <td>363</td>\n",
       "    </tr>\n",
       "    <tr>\n",
       "      <th>Women,Shoes,Boots</th>\n",
       "      <td>223</td>\n",
       "    </tr>\n",
       "    <tr>\n",
       "      <th>...</th>\n",
       "      <td>...</td>\n",
       "    </tr>\n",
       "    <tr>\n",
       "      <th>Clothing,Clothing, Shoes &amp; Jewelry,Women,Coats, Jackets &amp; Vests,Trench, Rain &amp; Anoraks,Trench Coats</th>\n",
       "      <td>1</td>\n",
       "    </tr>\n",
       "    <tr>\n",
       "      <th>Clothing, Shoes &amp; Accessories,Women's Clothing,Athletic Apparel,See more Ideology Womens Pink Space Dye 6521 Performanc...</th>\n",
       "      <td>1</td>\n",
       "    </tr>\n",
       "    <tr>\n",
       "      <th>Women,Jumpsuits, Rompers &amp; Overalls,Clothing, Shoes &amp; Jewelry,Clothing</th>\n",
       "      <td>1</td>\n",
       "    </tr>\n",
       "    <tr>\n",
       "      <th>Clothing, Shoes &amp; Accessories,Women's Accessories,Sunglasses &amp; Fashion Eyewear,Sunglasses,Wholesale, Large &amp; Small Lots,Mixed Lots</th>\n",
       "      <td>1</td>\n",
       "    </tr>\n",
       "    <tr>\n",
       "      <th>Watches,Clothing, Shoes &amp; Jewelry,Women,Wrist Watches,Jewelry &amp; Watches,Wristwatches</th>\n",
       "      <td>1</td>\n",
       "    </tr>\n",
       "  </tbody>\n",
       "</table>\n",
       "<p>1064 rows × 1 columns</p>\n",
       "</div>"
      ],
      "text/plain": [
       "                                                    categories\n",
       "Shoes,Women's Shoes,Clothing,All Women's Shoes            2887\n",
       "Clothing,Shoes,Women's Shoes,All Women's Shoes            2313\n",
       "Shoes,Clothing,Women's Shoes,All Women's Shoes            2064\n",
       "Athletic,Women,Shoes,Shoes & Handbags                      363\n",
       "Women,Shoes,Boots                                          223\n",
       "...                                                        ...\n",
       "Clothing,Clothing, Shoes & Jewelry,Women,Coats,...           1\n",
       "Clothing, Shoes & Accessories,Women's Clothing,...           1\n",
       "Women,Jumpsuits, Rompers & Overalls,Clothing, S...           1\n",
       "Clothing, Shoes & Accessories,Women's Accessori...           1\n",
       "Watches,Clothing, Shoes & Jewelry,Women,Wrist W...           1\n",
       "\n",
       "[1064 rows x 1 columns]"
      ]
     },
     "execution_count": 7,
     "metadata": {},
     "output_type": "execute_result"
    }
   ],
   "source": [
    "categories = pd.DataFrame(data['categories'].value_counts())\n",
    "categories"
   ]
  },
  {
   "cell_type": "code",
   "execution_count": 8,
   "id": "993cb330",
   "metadata": {},
   "outputs": [],
   "source": [
    "newCategories = ['Boot', 'Bootie', 'Heel', 'Sandals', 'Flats', 'Slippers', 'Sneakers', 'Insoles', 'Shoe', 'Shoes', 'Clogs', \n",
    "                 'Toe', 'Loafer', 'Boots', 'Booties', 'Heels', 'Sandal', 'Flat', 'Slipper', 'Sneaker', 'Insole', 'Clog', \n",
    "                 'Toes', 'Loafers', 'Pump', 'Flip', 'Flops', 'Orthaheels', 'Orthaheel', 'Pumps', 'Dwags', 'winterboots', \n",
    "                 'winterboot', 'Sock', 'Sole', 'rainboot']\n",
    "newCategories = [cat.lower() for cat in newCategories]\n",
    "\n",
    "newWearables = ['shades', 'earring', 'sunglasses', 'bags', 'bag', 'Jewelry', 'Trimmer', 'Cap', 'Clip', 'Comb', 'Rings', \n",
    "                'Ring', 'bag', 'handbag', 'handbags', 'Band', '' ]\n",
    "newCategories = [cat.lower() for cat in newCategories]\n",
    "\n",
    "def remove_special_characters(s):\n",
    "    return re.sub(r'[^a-zA-Z0-9]', ' ', s)\n",
    "\n",
    "def check_category(name, newLabel):\n",
    "    rename = remove_special_characters(name)\n",
    "    for word in rename.split():\n",
    "        # Check if the lowercase version of the word is in newLabel\n",
    "        if word.lower() in newLabel:\n",
    "            return True\n",
    "    return False"
   ]
  },
  {
   "cell_type": "code",
   "execution_count": 9,
   "id": "bfe56db7",
   "metadata": {},
   "outputs": [],
   "source": [
    "data.loc[data['name'].apply(lambda x: check_category(x, newCategories)), 'categories'] = 'Footwear'\n",
    "data.loc[data['name'].apply(lambda x: check_category(x, newWearables)), 'categories'] = 'Additional Accessories'\n",
    "data.loc[(data['categories'] != \"Footwear\") & (data['categories'] != \"Additional Accessories\"), 'categories'] = \"Clothing\""
   ]
  },
  {
   "cell_type": "code",
   "execution_count": 10,
   "id": "ee0b7be8",
   "metadata": {},
   "outputs": [],
   "source": [
    "categories = pd.DataFrame(data['categories'].value_counts())"
   ]
  },
  {
   "cell_type": "code",
   "execution_count": 11,
   "id": "233de01d",
   "metadata": {},
   "outputs": [
    {
     "data": {
      "text/html": [
       "<div>\n",
       "<style scoped>\n",
       "    .dataframe tbody tr th:only-of-type {\n",
       "        vertical-align: middle;\n",
       "    }\n",
       "\n",
       "    .dataframe tbody tr th {\n",
       "        vertical-align: top;\n",
       "    }\n",
       "\n",
       "    .dataframe thead th {\n",
       "        text-align: right;\n",
       "    }\n",
       "</style>\n",
       "<table border=\"1\" class=\"dataframe\">\n",
       "  <thead>\n",
       "    <tr style=\"text-align: right;\">\n",
       "      <th></th>\n",
       "      <th>categories</th>\n",
       "    </tr>\n",
       "  </thead>\n",
       "  <tbody>\n",
       "    <tr>\n",
       "      <th>Footwear</th>\n",
       "      <td>12484</td>\n",
       "    </tr>\n",
       "    <tr>\n",
       "      <th>Clothing</th>\n",
       "      <td>5951</td>\n",
       "    </tr>\n",
       "    <tr>\n",
       "      <th>Additional Accessories</th>\n",
       "      <td>610</td>\n",
       "    </tr>\n",
       "  </tbody>\n",
       "</table>\n",
       "</div>"
      ],
      "text/plain": [
       "                        categories\n",
       "Footwear                     12484\n",
       "Clothing                      5951\n",
       "Additional Accessories         610"
      ]
     },
     "execution_count": 11,
     "metadata": {},
     "output_type": "execute_result"
    }
   ],
   "source": [
    "categories"
   ]
  },
  {
   "cell_type": "markdown",
   "id": "5cee0686",
   "metadata": {},
   "source": [
    "**working for colors column**\n",
    "\n",
    "The function is design for fetching colors from W3 school and is compared with the string. If color appears in the string then column is filled else filled with string \"No Color information\""
   ]
  },
  {
   "cell_type": "code",
   "execution_count": 12,
   "id": "b1a8a713",
   "metadata": {},
   "outputs": [],
   "source": [
    "def getColors():\n",
    "    html = urllib.request.urlopen('http://www.w3schools.com/colors/colors_names.asp').read()\n",
    "    soup = BeautifulSoup(html, 'html.parser')\n",
    "    children = [item.findChildren() for item in soup.find_all('span')]\n",
    "    color_values = [a_tag.text.lower() for sublist in children for a_tag in sublist if a_tag.name == \"a\" and \"color=\" in a_tag[\"href\"]]\n",
    "    return color_values\n",
    "\n",
    "colorList = getColors()"
   ]
  },
  {
   "cell_type": "code",
   "execution_count": 13,
   "id": "c5a5f22e",
   "metadata": {},
   "outputs": [],
   "source": [
    "def identify_color(row):\n",
    "    # If color is not NaN, retain that value\n",
    "    if not pd.isna(row['colors']):\n",
    "        return row['colors']\n",
    "\n",
    "    for color in colorList:\n",
    "        if color.lower() in row['name'].lower():\n",
    "            return color\n",
    "    return None\n",
    "\n",
    "data['colors'] = data.apply(identify_color, axis=1)"
   ]
  },
  {
   "cell_type": "code",
   "execution_count": 14,
   "id": "bea597c1",
   "metadata": {},
   "outputs": [],
   "source": [
    "data['colors'].fillna(\"No Color Information\", inplace=True)"
   ]
  },
  {
   "cell_type": "code",
   "execution_count": 15,
   "id": "21442bc1",
   "metadata": {},
   "outputs": [
    {
     "data": {
      "text/plain": [
       "id                         0\n",
       "brand                    633\n",
       "categories                 0\n",
       "colors                     0\n",
       "descriptions            8265\n",
       "name                       0\n",
       "prices.amountMin           1\n",
       "prices.amountMax           0\n",
       "prices.currency            9\n",
       "prices.isSale              6\n",
       "prices.returnPolicy    18293\n",
       "prices.shipping        14482\n",
       "reviews                18031\n",
       "sizes                  10776\n",
       "dtype: int64"
      ]
     },
     "execution_count": 15,
     "metadata": {},
     "output_type": "execute_result"
    }
   ],
   "source": [
    "data.isnull().sum()"
   ]
  },
  {
   "cell_type": "markdown",
   "id": "a37e2cb6",
   "metadata": {},
   "source": [
    "**working for brand column**\n",
    "\n",
    "Nan values are replaced by the first words of name string. Repeated pattern observe that the first word till the initial speed is mostly the brand name."
   ]
  },
  {
   "cell_type": "code",
   "execution_count": 16,
   "id": "ad54216d",
   "metadata": {},
   "outputs": [],
   "source": [
    "def brand_name(row):\n",
    "    if not pd.isna(row['brand']):\n",
    "        return row['brand']\n",
    "    else:\n",
    "        return row['name'].split(\" \")[0]"
   ]
  },
  {
   "cell_type": "code",
   "execution_count": 17,
   "id": "2493106a",
   "metadata": {},
   "outputs": [],
   "source": [
    "data['brand'] = data.apply(brand_name, axis=1)"
   ]
  },
  {
   "cell_type": "code",
   "execution_count": 18,
   "id": "7d885c70",
   "metadata": {},
   "outputs": [
    {
     "data": {
      "text/plain": [
       "id                         0\n",
       "brand                      0\n",
       "categories                 0\n",
       "colors                     0\n",
       "descriptions            8265\n",
       "name                       0\n",
       "prices.amountMin           1\n",
       "prices.amountMax           0\n",
       "prices.currency            9\n",
       "prices.isSale              6\n",
       "prices.returnPolicy    18293\n",
       "prices.shipping        14482\n",
       "reviews                18031\n",
       "sizes                  10776\n",
       "dtype: int64"
      ]
     },
     "execution_count": 18,
     "metadata": {},
     "output_type": "execute_result"
    }
   ],
   "source": [
    "data.isnull().sum()"
   ]
  },
  {
   "cell_type": "markdown",
   "id": "d2ce5893",
   "metadata": {},
   "source": [
    "**working for sizes column**\n",
    "\n",
    "Filled with string \"size in name description\". Size related prompts will redirect the towards the name quering in vector DBs."
   ]
  },
  {
   "cell_type": "code",
   "execution_count": 19,
   "id": "81801603",
   "metadata": {},
   "outputs": [],
   "source": [
    "data['sizes'].fillna(\"size in name and description\", inplace=True)"
   ]
  },
  {
   "cell_type": "markdown",
   "id": "06f50f97",
   "metadata": {},
   "source": [
    "**working for description column**\n",
    "\n",
    "Nan values are replaced by the following format as per observed pattern.\n",
    "- [{\"dateSeen\":[\"2016-11-11T09:49:00Z\"],\"sourceURLs\":[\"No Link\"],\"value\":\"Name+brand+colors+sizes\"}]"
   ]
  },
  {
   "cell_type": "code",
   "execution_count": 20,
   "id": "eab76904",
   "metadata": {},
   "outputs": [],
   "source": [
    "def filled_descr(row):\n",
    "    if not pd.isna(row['descriptions']):\n",
    "        return row['descriptions']\n",
    "    else:\n",
    "        descr = row['name'] + ' ' + row['brand'] + ' ' + row['colors'] + ' ' + row['sizes']\n",
    "        return [{\"dateSeen\":[\"2016-11-11T09:49:00Z\"],\"sourceURLs\":[\"No Link\"],\"value\":descr}]"
   ]
  },
  {
   "cell_type": "code",
   "execution_count": 21,
   "id": "a0afeee6",
   "metadata": {},
   "outputs": [],
   "source": [
    "data['descriptions'] = data.apply(filled_descr, axis=1)"
   ]
  },
  {
   "cell_type": "code",
   "execution_count": 22,
   "id": "7aa610e5",
   "metadata": {
    "scrolled": true
   },
   "outputs": [
    {
     "data": {
      "text/plain": [
       "id                         0\n",
       "brand                      0\n",
       "categories                 0\n",
       "colors                     0\n",
       "descriptions               0\n",
       "name                       0\n",
       "prices.amountMin           1\n",
       "prices.amountMax           0\n",
       "prices.currency            9\n",
       "prices.isSale              6\n",
       "prices.returnPolicy    18293\n",
       "prices.shipping        14482\n",
       "reviews                18031\n",
       "sizes                      0\n",
       "dtype: int64"
      ]
     },
     "execution_count": 22,
     "metadata": {},
     "output_type": "execute_result"
    }
   ],
   "source": [
    "data.isnull().sum()"
   ]
  },
  {
   "cell_type": "markdown",
   "id": "34023f2f",
   "metadata": {},
   "source": [
    "**working for currency, amountMin, isSale column**\n",
    "\n",
    "All rows are removed due to multiple null values in a row and erroneous (e.g. in currency 'USD' need to mentioned but in these rows 'size' is mentioned, etc) values in row"
   ]
  },
  {
   "cell_type": "code",
   "execution_count": 23,
   "id": "54b06bac",
   "metadata": {
    "scrolled": true
   },
   "outputs": [],
   "source": [
    "data = data.dropna(subset=['prices.currency'])\n",
    "data = data.dropna(subset=['prices.amountMin'])\n",
    "data = data.dropna(subset=['prices.isSale'])"
   ]
  },
  {
   "cell_type": "markdown",
   "id": "6373cffe",
   "metadata": {},
   "source": [
    "**working for returnPolicy, shipping, reviews column**\n",
    "\n",
    "All rows are filled with general comments to save time. However, empirical and IQ methods are available to clean this type of data"
   ]
  },
  {
   "cell_type": "code",
   "execution_count": 24,
   "id": "a9f2727c",
   "metadata": {},
   "outputs": [],
   "source": [
    "data['prices.returnPolicy'].fillna(\"No return policy\", inplace=True)\n",
    "data['prices.shipping'].fillna(\"USD 0\", inplace=True)\n",
    "data['reviews'].fillna(\"No reviews yet\", inplace=True)"
   ]
  },
  {
   "cell_type": "code",
   "execution_count": 25,
   "id": "11e76eaa",
   "metadata": {},
   "outputs": [
    {
     "data": {
      "text/plain": [
       "id                     0\n",
       "brand                  0\n",
       "categories             0\n",
       "colors                 0\n",
       "descriptions           0\n",
       "name                   0\n",
       "prices.amountMin       0\n",
       "prices.amountMax       0\n",
       "prices.currency        0\n",
       "prices.isSale          0\n",
       "prices.returnPolicy    0\n",
       "prices.shipping        0\n",
       "reviews                0\n",
       "sizes                  0\n",
       "dtype: int64"
      ]
     },
     "execution_count": 25,
     "metadata": {},
     "output_type": "execute_result"
    }
   ],
   "source": [
    "data.isnull().sum()"
   ]
  },
  {
   "cell_type": "markdown",
   "id": "f44cd6ff",
   "metadata": {},
   "source": [
    "**Erroneous Values**\n",
    "\n",
    "Data is cleaned from null values but in some columns erroneous values are observed. Cleaning erroneous values"
   ]
  },
  {
   "cell_type": "code",
   "execution_count": 26,
   "id": "5d4c9947",
   "metadata": {},
   "outputs": [
    {
     "data": {
      "text/plain": [
       "USD    18199\n",
       "CAD      638\n",
       "AUD      118\n",
       "EUR       64\n",
       "GBP       15\n",
       "new        1\n",
       "Name: prices.currency, dtype: int64"
      ]
     },
     "execution_count": 26,
     "metadata": {},
     "output_type": "execute_result"
    }
   ],
   "source": [
    "data['prices.currency'].value_counts()"
   ]
  },
  {
   "cell_type": "code",
   "execution_count": 27,
   "id": "2a0663ed",
   "metadata": {},
   "outputs": [],
   "source": [
    "data.loc[data['prices.currency'] == \"new\", 'prices.currency'] = 'USD'"
   ]
  },
  {
   "cell_type": "code",
   "execution_count": 28,
   "id": "9389eb0f",
   "metadata": {},
   "outputs": [
    {
     "data": {
      "text/plain": [
       "FALSE                   12679\n",
       "TRUE                     6355\n",
       "2017-01-23T00:00:00Z        1\n",
       "Name: prices.isSale, dtype: int64"
      ]
     },
     "execution_count": 28,
     "metadata": {},
     "output_type": "execute_result"
    }
   ],
   "source": [
    "data['prices.isSale'].value_counts()"
   ]
  },
  {
   "cell_type": "code",
   "execution_count": 29,
   "id": "d4f8544a",
   "metadata": {},
   "outputs": [
    {
     "data": {
      "text/html": [
       "<div>\n",
       "<style scoped>\n",
       "    .dataframe tbody tr th:only-of-type {\n",
       "        vertical-align: middle;\n",
       "    }\n",
       "\n",
       "    .dataframe tbody tr th {\n",
       "        vertical-align: top;\n",
       "    }\n",
       "\n",
       "    .dataframe thead th {\n",
       "        text-align: right;\n",
       "    }\n",
       "</style>\n",
       "<table border=\"1\" class=\"dataframe\">\n",
       "  <thead>\n",
       "    <tr style=\"text-align: right;\">\n",
       "      <th></th>\n",
       "      <th>id</th>\n",
       "      <th>brand</th>\n",
       "      <th>categories</th>\n",
       "      <th>colors</th>\n",
       "      <th>descriptions</th>\n",
       "      <th>name</th>\n",
       "      <th>prices.amountMin</th>\n",
       "      <th>prices.amountMax</th>\n",
       "      <th>prices.currency</th>\n",
       "      <th>prices.isSale</th>\n",
       "      <th>prices.returnPolicy</th>\n",
       "      <th>prices.shipping</th>\n",
       "      <th>reviews</th>\n",
       "      <th>sizes</th>\n",
       "    </tr>\n",
       "  </thead>\n",
       "  <tbody>\n",
       "    <tr>\n",
       "      <th>17551</th>\n",
       "      <td>AVpfjSHWilAPnD_xdzke</td>\n",
       "      <td>Bordello</td>\n",
       "      <td>Footwear</td>\n",
       "      <td>Red Str Pat,Slv Str Pu</td>\n",
       "      <td>[{\"dateSeen\":[\"2017-01-24T18:53:02Z\"],\"sourceU...</td>\n",
       "      <td>Bordello Teeze-3000 - 5 3/4 Heel</td>\n",
       "      <td>1 3/4\" Hidden Pf Stretch Thigh Boot</td>\n",
       "      <td>Side Zip-slv Str Pu-7\"</td>\n",
       "      <td>USD</td>\n",
       "      <td>2017-01-23T00:00:00Z</td>\n",
       "      <td>BESTON SHOES - Walmart.com</td>\n",
       "      <td>USD 0</td>\n",
       "      <td>No reviews yet</td>\n",
       "      <td>size in name and description</td>\n",
       "    </tr>\n",
       "  </tbody>\n",
       "</table>\n",
       "</div>"
      ],
      "text/plain": [
       "                         id     brand categories                  colors  \\\n",
       "17551  AVpfjSHWilAPnD_xdzke  Bordello   Footwear  Red Str Pat,Slv Str Pu   \n",
       "\n",
       "                                            descriptions  \\\n",
       "17551  [{\"dateSeen\":[\"2017-01-24T18:53:02Z\"],\"sourceU...   \n",
       "\n",
       "                                   name                      prices.amountMin  \\\n",
       "17551  Bordello Teeze-3000 - 5 3/4 Heel   1 3/4\" Hidden Pf Stretch Thigh Boot   \n",
       "\n",
       "              prices.amountMax prices.currency         prices.isSale  \\\n",
       "17551   Side Zip-slv Str Pu-7\"             USD  2017-01-23T00:00:00Z   \n",
       "\n",
       "              prices.returnPolicy prices.shipping         reviews  \\\n",
       "17551  BESTON SHOES - Walmart.com           USD 0  No reviews yet   \n",
       "\n",
       "                              sizes  \n",
       "17551  size in name and description  "
      ]
     },
     "execution_count": 29,
     "metadata": {},
     "output_type": "execute_result"
    }
   ],
   "source": [
    "data.loc[data['prices.isSale'] == \"2017-01-23T00:00:00Z\"]"
   ]
  },
  {
   "cell_type": "code",
   "execution_count": 30,
   "id": "223e1f88",
   "metadata": {},
   "outputs": [],
   "source": [
    "data = data[data['prices.isSale'] != \"2017-01-23T00:00:00Z\"]"
   ]
  },
  {
   "cell_type": "code",
   "execution_count": 31,
   "id": "b1c0fb10",
   "metadata": {},
   "outputs": [],
   "source": [
    "data = data.reset_index(drop=True)"
   ]
  },
  {
   "cell_type": "markdown",
   "id": "f2e4ec18",
   "metadata": {},
   "source": [
    "**Data Loss**\n",
    "\n",
    "The number of rows that were dropped"
   ]
  },
  {
   "cell_type": "code",
   "execution_count": 32,
   "id": "2cc237d0",
   "metadata": {},
   "outputs": [
    {
     "data": {
      "text/plain": [
       "11"
      ]
     },
     "execution_count": 32,
     "metadata": {},
     "output_type": "execute_result"
    }
   ],
   "source": [
    "len(df) - len(data)"
   ]
  },
  {
   "cell_type": "markdown",
   "id": "663eaefa",
   "metadata": {},
   "source": [
    "#### Data Cleaned Successfully!"
   ]
  },
  {
   "cell_type": "code",
   "execution_count": 33,
   "id": "85441855",
   "metadata": {},
   "outputs": [],
   "source": [
    "data.to_csv(\"chatbot_ecommerce_cleaned_data.csv\", index=False)"
   ]
  }
 ],
 "metadata": {
  "kernelspec": {
   "display_name": "Python 3 (ipykernel)",
   "language": "python",
   "name": "python3"
  },
  "language_info": {
   "codemirror_mode": {
    "name": "ipython",
    "version": 3
   },
   "file_extension": ".py",
   "mimetype": "text/x-python",
   "name": "python",
   "nbconvert_exporter": "python",
   "pygments_lexer": "ipython3",
   "version": "3.9.16"
  }
 },
 "nbformat": 4,
 "nbformat_minor": 5
}
